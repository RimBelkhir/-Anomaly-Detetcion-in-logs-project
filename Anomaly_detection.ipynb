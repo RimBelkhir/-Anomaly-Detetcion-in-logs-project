{
 "cells": [
  {
   "cell_type": "code",
   "execution_count": 2,
   "metadata": {},
   "outputs": [
    {
     "data": {
      "text/html": [
       "        <script type=\"text/javascript\">\n",
       "        window.PlotlyConfig = {MathJaxConfig: 'local'};\n",
       "        if (window.MathJax) {MathJax.Hub.Config({SVG: {font: \"STIX-Web\"}});}\n",
       "        if (typeof require !== 'undefined') {\n",
       "        require.undef(\"plotly\");\n",
       "        requirejs.config({\n",
       "            paths: {\n",
       "                'plotly': ['https://cdn.plot.ly/plotly-2.11.1.min']\n",
       "            }\n",
       "        });\n",
       "        require(['plotly'], function(Plotly) {\n",
       "            window._Plotly = Plotly;\n",
       "        });\n",
       "        }\n",
       "        </script>\n",
       "        "
      ]
     },
     "metadata": {},
     "output_type": "display_data"
    }
   ],
   "source": [
    "from datetime import datetime\n",
    "import pytz\n",
    "import pandas as pd\n",
    "from datetime import datetime\n",
    "from wordcloud import WordCloud, STOPWORDS, ImageColorGenerator\n",
    "import matplotlib.pyplot as plt\n",
    "\n",
    "from plotly.offline import download_plotlyjs, init_notebook_mode, plot, iplot\n",
    "import cufflinks as cf\n",
    "cf.go_offline()\n",
    "\n",
    "from datetime import datetime\n",
    "import pytz\n",
    "\n",
    "def parse_str(x):\n",
    "    \"\"\"\n",
    "    Returns the string delimited by two characters.\n",
    "\n",
    "    Example:\n",
    "        `>>> parse_str('[my string]')`\n",
    "        `'my string'`\n",
    "    \"\"\"\n",
    "    return x[1:-1]\n",
    "\n",
    "def parse_datetime(x):\n",
    "    '''\n",
    "    Parses datetime with timezone formatted as:\n",
    "        `[day/month/year:hour:minute:second zone]`\n",
    "\n",
    "    Example:\n",
    "        `>>> parse_datetime('13/Nov/2015:11:45:42 +0000')`\n",
    "        `datetime.datetime(2015, 11, 3, 11, 45, 4, tzinfo=<UTC>)`\n",
    "\n",
    "    Due to problems parsing the timezone (`%z`) with `datetime.strptime`, the\n",
    "    timezone will be obtained using the `pytz` library.\n",
    "    '''\n",
    "    dt = datetime.strptime(x[1:-7], '%d/%b/%Y:%H:%M:%S')\n",
    "    dt_tz = int(x[-6:-3])*60+int(x[-3:-1])\n",
    "    return dt.replace(tzinfo=pytz.FixedOffset(dt_tz))"
   ]
  },
  {
   "cell_type": "code",
   "execution_count": 3,
   "metadata": {},
   "outputs": [],
   "source": [
    "import re\n",
    "import pandas as pd\n",
    "\n",
    "data = pd.read_csv(\n",
    "    'C:\\\\Users\\\\ASUS\\\\Dropbox\\\\PC\\\\Desktop\\\\nginx_logs.txt',\n",
    "    sep=r'\\s(?=(?:[^\"]*\"[^\"]*\")*[^\"]*$)(?![^\\[]*\\])',\n",
    "    engine='python',\n",
    "    na_values='-',\n",
    "    header=None,\n",
    "    usecols=[0, 3, 4, 5, 6, 7, 8],\n",
    "    names=['ip_address', '@timestamp', 'request', 'response_code', 'content_size', 'url', 'user_agent'],\n",
    "    converters={'@timestamp': parse_datetime,\n",
    "                'request': parse_str,\n",
    "                'response_code': int,\n",
    "                'content_size': int,\n",
    "                'url': parse_str,\n",
    "                'user_agent': parse_str})"
   ]
  },
  {
   "cell_type": "code",
   "execution_count": 4,
   "metadata": {},
   "outputs": [
    {
     "data": {
      "text/html": [
       "<div>\n",
       "<style scoped>\n",
       "    .dataframe tbody tr th:only-of-type {\n",
       "        vertical-align: middle;\n",
       "    }\n",
       "\n",
       "    .dataframe tbody tr th {\n",
       "        vertical-align: top;\n",
       "    }\n",
       "\n",
       "    .dataframe thead th {\n",
       "        text-align: right;\n",
       "    }\n",
       "</style>\n",
       "<table border=\"1\" class=\"dataframe\">\n",
       "  <thead>\n",
       "    <tr style=\"text-align: right;\">\n",
       "      <th></th>\n",
       "      <th>ip_address</th>\n",
       "      <th>@timestamp</th>\n",
       "      <th>request</th>\n",
       "      <th>response_code</th>\n",
       "      <th>content_size</th>\n",
       "      <th>url</th>\n",
       "      <th>user_agent</th>\n",
       "    </tr>\n",
       "  </thead>\n",
       "  <tbody>\n",
       "    <tr>\n",
       "      <th>0</th>\n",
       "      <td>208.100.26.243</td>\n",
       "      <td>2021-11-18 02:23:04+00:00</td>\n",
       "      <td>GET / HTTP/1.1</td>\n",
       "      <td>200</td>\n",
       "      <td>42</td>\n",
       "      <td>NaN</td>\n",
       "      <td>Mozilla/5.0 (X11; Linux x86_64) AppleWebKit/53...</td>\n",
       "    </tr>\n",
       "    <tr>\n",
       "      <th>1</th>\n",
       "      <td>208.100.26.249</td>\n",
       "      <td>2021-11-18 02:23:04+00:00</td>\n",
       "      <td>GET / HTTP/1.1</td>\n",
       "      <td>200</td>\n",
       "      <td>42</td>\n",
       "      <td>http://mail.realforce.ch/</td>\n",
       "      <td>Mozilla/5.0 (Windows NT 6.2; WOW64) AppleWebKi...</td>\n",
       "    </tr>\n",
       "    <tr>\n",
       "      <th>2</th>\n",
       "      <td>23.146.242.252</td>\n",
       "      <td>2021-11-19 09:34:39+00:00</td>\n",
       "      <td>GET / HTTP/1.1</td>\n",
       "      <td>200</td>\n",
       "      <td>21</td>\n",
       "      <td>NaN</td>\n",
       "      <td>Mozilla/5.0 (Windows NT 10.0; WOW64; rv:47.0) ...</td>\n",
       "    </tr>\n",
       "    <tr>\n",
       "      <th>3</th>\n",
       "      <td>208.100.26.249</td>\n",
       "      <td>2021-11-23 22:45:24+00:00</td>\n",
       "      <td>GET / HTTP/1.1</td>\n",
       "      <td>200</td>\n",
       "      <td>42</td>\n",
       "      <td>http://mail.realforce.ch/</td>\n",
       "      <td>Mozilla/5.0 (Linux; Android 8.1.0; SM-G610F) A...</td>\n",
       "    </tr>\n",
       "    <tr>\n",
       "      <th>4</th>\n",
       "      <td>51.158.108.77</td>\n",
       "      <td>2021-11-28 12:53:31+00:00</td>\n",
       "      <td>GET / HTTP/1.1</td>\n",
       "      <td>200</td>\n",
       "      <td>21</td>\n",
       "      <td>NaN</td>\n",
       "      <td>NaN</td>\n",
       "    </tr>\n",
       "  </tbody>\n",
       "</table>\n",
       "</div>"
      ],
      "text/plain": [
       "       ip_address                @timestamp         request  response_code  \\\n",
       "0  208.100.26.243 2021-11-18 02:23:04+00:00  GET / HTTP/1.1            200   \n",
       "1  208.100.26.249 2021-11-18 02:23:04+00:00  GET / HTTP/1.1            200   \n",
       "2  23.146.242.252 2021-11-19 09:34:39+00:00  GET / HTTP/1.1            200   \n",
       "3  208.100.26.249 2021-11-23 22:45:24+00:00  GET / HTTP/1.1            200   \n",
       "4   51.158.108.77 2021-11-28 12:53:31+00:00  GET / HTTP/1.1            200   \n",
       "\n",
       "   content_size                        url  \\\n",
       "0            42                        NaN   \n",
       "1            42  http://mail.realforce.ch/   \n",
       "2            21                        NaN   \n",
       "3            42  http://mail.realforce.ch/   \n",
       "4            21                        NaN   \n",
       "\n",
       "                                          user_agent  \n",
       "0  Mozilla/5.0 (X11; Linux x86_64) AppleWebKit/53...  \n",
       "1  Mozilla/5.0 (Windows NT 6.2; WOW64) AppleWebKi...  \n",
       "2  Mozilla/5.0 (Windows NT 10.0; WOW64; rv:47.0) ...  \n",
       "3  Mozilla/5.0 (Linux; Android 8.1.0; SM-G610F) A...  \n",
       "4                                                NaN  "
      ]
     },
     "execution_count": 4,
     "metadata": {},
     "output_type": "execute_result"
    }
   ],
   "source": [
    "data.head()"
   ]
  },
  {
   "cell_type": "code",
   "execution_count": 5,
   "metadata": {},
   "outputs": [
    {
     "data": {
      "text/plain": [
       "Index(['ip_address', '@timestamp', 'request', 'response_code', 'content_size',\n",
       "       'url', 'user_agent'],\n",
       "      dtype='object')"
      ]
     },
     "execution_count": 5,
     "metadata": {},
     "output_type": "execute_result"
    }
   ],
   "source": [
    "data.columns"
   ]
  },
  {
   "cell_type": "code",
   "execution_count": 6,
   "metadata": {},
   "outputs": [
    {
     "data": {
      "text/html": [
       "<div>\n",
       "<style scoped>\n",
       "    .dataframe tbody tr th:only-of-type {\n",
       "        vertical-align: middle;\n",
       "    }\n",
       "\n",
       "    .dataframe tbody tr th {\n",
       "        vertical-align: top;\n",
       "    }\n",
       "\n",
       "    .dataframe thead th {\n",
       "        text-align: right;\n",
       "    }\n",
       "</style>\n",
       "<table border=\"1\" class=\"dataframe\">\n",
       "  <thead>\n",
       "    <tr style=\"text-align: right;\">\n",
       "      <th></th>\n",
       "      <th>ip_address</th>\n",
       "      <th>@timestamp</th>\n",
       "      <th>request</th>\n",
       "      <th>response_code</th>\n",
       "      <th>content_size</th>\n",
       "      <th>url</th>\n",
       "      <th>user_agent</th>\n",
       "    </tr>\n",
       "  </thead>\n",
       "  <tbody>\n",
       "    <tr>\n",
       "      <th>0</th>\n",
       "      <td>208.100.26.243</td>\n",
       "      <td>2021-11-18 02:23:04+00:00</td>\n",
       "      <td>GET / HTTP/1.1</td>\n",
       "      <td>200</td>\n",
       "      <td>42</td>\n",
       "      <td>NaN</td>\n",
       "      <td>Mozilla/5.0 (X11; Linux x86_64) AppleWebKit/53...</td>\n",
       "    </tr>\n",
       "    <tr>\n",
       "      <th>1</th>\n",
       "      <td>208.100.26.249</td>\n",
       "      <td>2021-11-18 02:23:04+00:00</td>\n",
       "      <td>GET / HTTP/1.1</td>\n",
       "      <td>200</td>\n",
       "      <td>42</td>\n",
       "      <td>http://mail.realforce.ch/</td>\n",
       "      <td>Mozilla/5.0 (Windows NT 6.2; WOW64) AppleWebKi...</td>\n",
       "    </tr>\n",
       "    <tr>\n",
       "      <th>2</th>\n",
       "      <td>23.146.242.252</td>\n",
       "      <td>2021-11-19 09:34:39+00:00</td>\n",
       "      <td>GET / HTTP/1.1</td>\n",
       "      <td>200</td>\n",
       "      <td>21</td>\n",
       "      <td>NaN</td>\n",
       "      <td>Mozilla/5.0 (Windows NT 10.0; WOW64; rv:47.0) ...</td>\n",
       "    </tr>\n",
       "    <tr>\n",
       "      <th>3</th>\n",
       "      <td>208.100.26.249</td>\n",
       "      <td>2021-11-23 22:45:24+00:00</td>\n",
       "      <td>GET / HTTP/1.1</td>\n",
       "      <td>200</td>\n",
       "      <td>42</td>\n",
       "      <td>http://mail.realforce.ch/</td>\n",
       "      <td>Mozilla/5.0 (Linux; Android 8.1.0; SM-G610F) A...</td>\n",
       "    </tr>\n",
       "    <tr>\n",
       "      <th>4</th>\n",
       "      <td>51.158.108.77</td>\n",
       "      <td>2021-11-28 12:53:31+00:00</td>\n",
       "      <td>GET / HTTP/1.1</td>\n",
       "      <td>200</td>\n",
       "      <td>21</td>\n",
       "      <td>NaN</td>\n",
       "      <td>NaN</td>\n",
       "    </tr>\n",
       "    <tr>\n",
       "      <th>...</th>\n",
       "      <td>...</td>\n",
       "      <td>...</td>\n",
       "      <td>...</td>\n",
       "      <td>...</td>\n",
       "      <td>...</td>\n",
       "      <td>...</td>\n",
       "      <td>...</td>\n",
       "    </tr>\n",
       "    <tr>\n",
       "      <th>345</th>\n",
       "      <td>208.100.26.243</td>\n",
       "      <td>2022-02-08 16:16:35+00:00</td>\n",
       "      <td>GET / HTTP/1.1</td>\n",
       "      <td>200</td>\n",
       "      <td>21</td>\n",
       "      <td>http://34.65.252.193:80/</td>\n",
       "      <td>Go http package</td>\n",
       "    </tr>\n",
       "    <tr>\n",
       "      <th>346</th>\n",
       "      <td>208.100.26.243</td>\n",
       "      <td>2022-02-08 18:42:32+00:00</td>\n",
       "      <td>GET / HTTP/1.1</td>\n",
       "      <td>200</td>\n",
       "      <td>42</td>\n",
       "      <td>NaN</td>\n",
       "      <td>Mozilla/5.0 (Windows NT 6.1; Win64; x64) Apple...</td>\n",
       "    </tr>\n",
       "    <tr>\n",
       "      <th>347</th>\n",
       "      <td>34.96.130.18</td>\n",
       "      <td>2022-02-08 21:27:04+00:00</td>\n",
       "      <td>GET / HTTP/1.1</td>\n",
       "      <td>200</td>\n",
       "      <td>21</td>\n",
       "      <td>NaN</td>\n",
       "      <td>Expanse indexes the network perimeters of our ...</td>\n",
       "    </tr>\n",
       "    <tr>\n",
       "      <th>348</th>\n",
       "      <td>208.100.26.237</td>\n",
       "      <td>2022-02-10 11:23:38+00:00</td>\n",
       "      <td>HEAD /core/misc/drupal.js HTTP/1.1</td>\n",
       "      <td>200</td>\n",
       "      <td>0</td>\n",
       "      <td>NaN</td>\n",
       "      <td>Mozilla/5.0 (Windows NT 6.1; Win64; x64) Apple...</td>\n",
       "    </tr>\n",
       "    <tr>\n",
       "      <th>349</th>\n",
       "      <td>51.158.109.3</td>\n",
       "      <td>2022-02-17 20:38:24+00:00</td>\n",
       "      <td>GET / HTTP/1.1</td>\n",
       "      <td>200</td>\n",
       "      <td>21</td>\n",
       "      <td>NaN</td>\n",
       "      <td>NaN</td>\n",
       "    </tr>\n",
       "  </tbody>\n",
       "</table>\n",
       "<p>350 rows × 7 columns</p>\n",
       "</div>"
      ],
      "text/plain": [
       "         ip_address                @timestamp  \\\n",
       "0    208.100.26.243 2021-11-18 02:23:04+00:00   \n",
       "1    208.100.26.249 2021-11-18 02:23:04+00:00   \n",
       "2    23.146.242.252 2021-11-19 09:34:39+00:00   \n",
       "3    208.100.26.249 2021-11-23 22:45:24+00:00   \n",
       "4     51.158.108.77 2021-11-28 12:53:31+00:00   \n",
       "..              ...                       ...   \n",
       "345  208.100.26.243 2022-02-08 16:16:35+00:00   \n",
       "346  208.100.26.243 2022-02-08 18:42:32+00:00   \n",
       "347    34.96.130.18 2022-02-08 21:27:04+00:00   \n",
       "348  208.100.26.237 2022-02-10 11:23:38+00:00   \n",
       "349    51.158.109.3 2022-02-17 20:38:24+00:00   \n",
       "\n",
       "                                request  response_code  content_size  \\\n",
       "0                        GET / HTTP/1.1            200            42   \n",
       "1                        GET / HTTP/1.1            200            42   \n",
       "2                        GET / HTTP/1.1            200            21   \n",
       "3                        GET / HTTP/1.1            200            42   \n",
       "4                        GET / HTTP/1.1            200            21   \n",
       "..                                  ...            ...           ...   \n",
       "345                      GET / HTTP/1.1            200            21   \n",
       "346                      GET / HTTP/1.1            200            42   \n",
       "347                      GET / HTTP/1.1            200            21   \n",
       "348  HEAD /core/misc/drupal.js HTTP/1.1            200             0   \n",
       "349                      GET / HTTP/1.1            200            21   \n",
       "\n",
       "                           url  \\\n",
       "0                          NaN   \n",
       "1    http://mail.realforce.ch/   \n",
       "2                          NaN   \n",
       "3    http://mail.realforce.ch/   \n",
       "4                          NaN   \n",
       "..                         ...   \n",
       "345   http://34.65.252.193:80/   \n",
       "346                        NaN   \n",
       "347                        NaN   \n",
       "348                        NaN   \n",
       "349                        NaN   \n",
       "\n",
       "                                            user_agent  \n",
       "0    Mozilla/5.0 (X11; Linux x86_64) AppleWebKit/53...  \n",
       "1    Mozilla/5.0 (Windows NT 6.2; WOW64) AppleWebKi...  \n",
       "2    Mozilla/5.0 (Windows NT 10.0; WOW64; rv:47.0) ...  \n",
       "3    Mozilla/5.0 (Linux; Android 8.1.0; SM-G610F) A...  \n",
       "4                                                  NaN  \n",
       "..                                                 ...  \n",
       "345                                    Go http package  \n",
       "346  Mozilla/5.0 (Windows NT 6.1; Win64; x64) Apple...  \n",
       "347  Expanse indexes the network perimeters of our ...  \n",
       "348  Mozilla/5.0 (Windows NT 6.1; Win64; x64) Apple...  \n",
       "349                                                NaN  \n",
       "\n",
       "[350 rows x 7 columns]"
      ]
     },
     "execution_count": 6,
     "metadata": {},
     "output_type": "execute_result"
    }
   ],
   "source": [
    "data"
   ]
  },
  {
   "cell_type": "code",
   "execution_count": 7,
   "metadata": {},
   "outputs": [
    {
     "name": "stdout",
     "output_type": "stream",
     "text": [
      "200    314\n",
      "501     10\n",
      "500     10\n",
      "304      7\n",
      "404      5\n",
      "403      4\n",
      "Name: response_code, dtype: int64\n"
     ]
    }
   ],
   "source": [
    "print(data['response_code'].value_counts())\n"
   ]
  },
  {
   "cell_type": "code",
   "execution_count": 8,
   "metadata": {},
   "outputs": [
    {
     "data": {
      "image/png": "[encoded data removed]",
      "text/plain": [
       "<Figure size 324x324 with 1 Axes>"
      ]
     },
     "metadata": {},
     "output_type": "display_data"
    }
   ],
   "source": [
    "import matplotlib.pyplot as plt\n",
    "\n",
    "\n",
    "def pie_pct_format(value):\n",
    "    \"\"\" Determine the appropriate format string for the pie chart percentage label\n",
    "    Args:\n",
    "        value: value of the pie slice\n",
    "    Returns:\n",
    "        str: formated string label; if the slice is too small to fit, returns an empty string for label\n",
    "    \"\"\"\n",
    "    return '' if value < 7 else '%.0f%%' % value\n",
    "\n",
    "fig = plt.figure(figsize=(4.5, 4.5), facecolor='white', edgecolor='white')\n",
    "colors = ['yellowgreen', 'lightskyblue', 'gold', 'purple', 'lightcoral', 'yellow']\n",
    "labels =[200, 501, 500, 304, 404, 403]\n",
    "explode = (0.05, 0.05, 0.1, 0, 0, 0)\n",
    "d=data['response_code'].value_counts()\n",
    "patches, texts, autotexts = plt.pie(d, labels=labels, colors=colors,\n",
    "                                    explode=explode, autopct=pie_pct_format,\n",
    "                                    shadow=False,  startangle=125)\n",
    "for text, autotext in zip(texts, autotexts):\n",
    "    if autotext.get_text() == '':\n",
    "        text.set_text('')\n",
    "        # If the slice is small to fit, don't show a text label\n",
    "plt.title(\"HTTP Status Codes\")\n",
    "plt.legend(labels, loc=(0.80, -0.1), shadow=True)\n",
    "\n",
    "pass"
   ]
  },
  {
   "cell_type": "code",
   "execution_count": 9,
   "metadata": {},
   "outputs": [
    {
     "name": "stdout",
     "output_type": "stream",
     "text": [
      "go http package                    32.00\n",
      "mozilla windows nt                 22.46\n",
      "windows nt wow64                   20.21\n",
      "expanse indexes network            20.00\n",
      "indexes network perimeters         20.00\n",
      "network perimeters customers       20.00\n",
      "perimeters customers questions     20.00\n",
      "customers questions concerns       20.00\n",
      "questions concerns please          20.00\n",
      "concerns please reach              20.00\n",
      "please reach scaninfo              20.00\n",
      "reach scaninfo expanseinc          20.00\n",
      "gecko 20100101 firefox             19.17\n",
      "nt wow64 rv                        18.51\n",
      "wow64 rv 47                        18.04\n"
     ]
    },
    {
     "name": "stderr",
     "output_type": "stream",
     "text": [
      "C:\\Users\\ASUS\\anaconda3\\lib\\site-packages\\sklearn\\feature_extraction\\text.py:388: UserWarning:\n",
      "\n",
      "Your stop_words may be inconsistent with your preprocessing. Tokenizing the stop words generated tokens ['baiknya', 'berkali', 'kali', 'kurangnya', 'mata', 'olah', 'onların', 'printr', 'sekurang', 'setidak', 'tama', 'tidaknya', 'δι', 'арбаң', 'арсалаң', 'афташ', 'бай', 'бале', 'баски', 'батыр', 'баҳри', 'болои', 'бүгжең', 'бұтыр', 'валекин', 'вақте', 'вой', 'вуҷуди', 'гар', 'гарчанде', 'далаң', 'даме', 'ербелең', 'жалт', 'жұлт', 'карда', 'кошки', 'куя', 'күңгір', 'кӣ', 'магар', 'майлаш', 'митың', 'модоме', 'нияти', 'онан', 'оре', 'паһ', 'рӯи', 'салаң', 'сар', 'сұлаң', 'сұрт', 'тарбаң', 'тразе', 'ту', 'тыржың', 'тұрс', 'хом', 'хуб', 'чаро', 'чи', 'чун', 'чунон', 'шарте', 'шұңқ', 'ыржың', 'қадар', 'қайқаң', 'қалт', 'қаңғыр', 'қаңқ', 'қош', 'қызараң', 'құйқаң', 'құлт', 'құңқ', 'ұрс', 'ҳай', 'ҳамин', 'ҳатто', 'ҳо', 'ҳол', 'ҳолате', 'әттеген', 'ӯим', 'آمين', 'أب', 'أخ', 'أفعل', 'أفعله', 'ؤلاء', 'إل', 'إم', 'ات', 'اتان', 'ارتد', 'ان', 'انفك', 'برح', 'تان', 'تبد', 'تحو', 'تعل', 'حد', 'حم', 'حي', 'خب', 'ذار', 'سيما', 'صه', 'ظل', 'ظن', 'عد', 'قط', 'مر', 'مكان', 'مكانكن', 'نب', 'هات', 'هب', 'واها', 'وراء', 'अक', 'अग', 'अझ', 'अन', 'अर', 'आजक', 'आत', 'आद', 'आफ', 'आय', 'ईक', 'उद', 'उनक', 'उनल', 'उह', 'एउट', 'एन', 'कog', 'कत', 'कम', 'कस', 'कसर', 'कह', 'गत', 'गय', 'गर', 'चम', 'छन', 'जत', 'जबक', 'जस', 'जसक', 'जसब', 'जसम', 'जसल', 'जह', 'तत', 'तथ', 'तदन', 'तप', 'तवम', 'नज', 'नत', 'नभन', 'नय', 'पक', 'पछ', 'पन', 'पय', 'पर', 'पष', 'पह', 'बन', 'बर', 'भएक', 'भय', 'भव', 'मल', 'यत', 'यथ', 'यद', 'यप', 'यसक', 'यसपछ', 'यसब', 'यसर', 'यह', 'रण', 'रत', 'रमश', 'रह', 'लस', 'वर', 'सक', 'सट', 'सध', 'सपछ', 'सब', 'सम', 'सर', 'सह', 'हन', 'हर', 'हरण', 'অথব', 'অন', 'অবধ', 'অবশ', 'অর', 'আগ', 'আছ', 'আদ', 'আপন', 'আব', 'আম', 'আমর', 'ইত', 'ইহ', 'উই', 'উক', 'উচ', 'উত', 'উন', 'এক', 'একট', 'একব', 'এখ', 'এট', 'এতট', 'এদ', 'এমনক', 'ওক', 'ওখ', 'ওদ', 'ওয', 'ওয়', 'কট', 'কব', 'কমন', 'কয', 'কর', 'করছ', 'করত', 'করব', 'করল', 'কয়', 'খত', 'চল', 'জনক', 'তথ', 'তব', 'তর', 'থম', 'ধর', 'নঐ', 'নও', 'নজন', 'নত', 'নয', 'পক', 'পষ', 'ফল', 'বক', 'বদল', 'বয', 'বর', 'বল', 'বলত', 'বস', 'বহ', 'মত', 'মধ', 'মন', 'যওজ', 'যতট', 'যথ', 'যদ', 'যন', 'যবহ', 'যভ', 'যম', 'রও', 'রণ', 'রত', 'রথম', 'রপর', 'রভ', 'রয', 'রযন', 'লক', 'ষয', 'সঙ', 'সম', 'সমস', 'হইত', 'হইব', 'হইয', 'হওয', 'হচ', 'হব', 'হয', 'ἀλλ'] not in stop_words.\n",
      "\n"
     ]
    }
   ],
   "source": [
    "# get trigram and plot the top 20\n",
    "from sklearn.feature_extraction.text import TfidfVectorizer\n",
    "from nltk.corpus import stopwords\n",
    "stop_words = stopwords.words()\n",
    "\n",
    "def cleaning(text):        \n",
    "    # converting to lowercase, removing URL links, special characters, punctuations,digits...\n",
    "    text = re.sub(\" \\d+\", \" \", str(text))\n",
    "    text = text.lower()\n",
    "    text = re.sub('https?://\\S+|www\\.\\S+', '', text)\n",
    "    text = re.sub('<.*?>+', '', text)\n",
    "    text = re.sub('\\n', '', text)\n",
    "    text = re.sub('[’“”…]', '', text) \n",
    "    return text\n",
    "\n",
    "dt = data['user_agent'].apply(cleaning)\n",
    "\n",
    "def get_top_n_trigram(corpus, n=None):\n",
    "    vec = TfidfVectorizer(ngram_range=(3, 3), stop_words=stop_words, smooth_idf=False).fit(corpus)\n",
    "    bag_of_words = vec.transform(corpus)\n",
    "    sum_words = bag_of_words.sum(axis=0)\n",
    "    words_freq = [(word, sum_words[0, idx]) for word, idx in vec.vocabulary_.items()]\n",
    "    words_freq =sorted(words_freq, key = lambda x: x[1], reverse=True)\n",
    "    return words_freq[:n]\n",
    "clean_data=dt.apply(cleaning)\n",
    "common_words = get_top_n_trigram(clean_data, 15)\n",
    "for word, freq in common_words:\n",
    "    print(\"{0:35}{1:5.2f}\".format(word,freq))"
   ]
  },
  {
   "cell_type": "code",
   "execution_count": 10,
   "metadata": {},
   "outputs": [
    {
     "data": {
      "text/html": [
       "        <script type=\"text/javascript\">\n",
       "        window.PlotlyConfig = {MathJaxConfig: 'local'};\n",
       "        if (window.MathJax) {MathJax.Hub.Config({SVG: {font: \"STIX-Web\"}});}\n",
       "        if (typeof require !== 'undefined') {\n",
       "        require.undef(\"plotly\");\n",
       "        requirejs.config({\n",
       "            paths: {\n",
       "                'plotly': ['https://cdn.plot.ly/plotly-2.11.1.min']\n",
       "            }\n",
       "        });\n",
       "        require(['plotly'], function(Plotly) {\n",
       "            window._Plotly = Plotly;\n",
       "        });\n",
       "        }\n",
       "        </script>\n",
       "        "
      ]
     },
     "metadata": {},
     "output_type": "display_data"
    }
   ],
   "source": [
    "import cufflinks as cf\n",
    "cf.go_offline()\n",
    "cf.set_config_file(offline=False, world_readable=True)"
   ]
  },
  {
   "cell_type": "code",
   "execution_count": 11,
   "metadata": {},
   "outputs": [
    {
     "data": {
      "text/plain": [
       "208.100.26.243    36\n",
       "208.100.26.249    25\n",
       "92.118.160.61     18\n",
       "84.38.134.31      16\n",
       "208.100.26.247    15\n",
       "94.232.46.171     12\n",
       "92.118.160.41     12\n",
       "208.100.26.246    11\n",
       "208.100.26.235     9\n",
       "20.102.71.10       8\n",
       "Name: ip_address, dtype: int64"
      ]
     },
     "execution_count": 11,
     "metadata": {},
     "output_type": "execute_result"
    }
   ],
   "source": [
    "data['ip_address'].value_counts()[:10]"
   ]
  },
  {
   "cell_type": "code",
   "execution_count": 12,
   "metadata": {},
   "outputs": [
    {
     "data": {
      "image/png": "[encoded data removed]",
      "text/plain": [
       "<Figure size 1152x504 with 1 Axes>"
      ]
     },
     "metadata": {
      "needs_background": "light"
     },
     "output_type": "display_data"
    }
   ],
   "source": [
    "import seaborn as sns\n",
    "athlete_order = data['ip_address'].value_counts().head(10).index\n",
    "plt.figure(figsize=(16, 7))\n",
    "sns.countplot(data=data, y='ip_address', order=athlete_order)\n",
    "plt.title(\"Top 10 most common user's ips \")\n",
    "plt.xlabel('No. of requests')\n",
    "plt.ylabel('User Ip');"
   ]
  },
  {
   "cell_type": "code",
   "execution_count": 13,
   "metadata": {},
   "outputs": [],
   "source": [
    "import pandas as pd\n",
    "import numpy as np\n",
    "import datetime as dt\n",
    "import random\n",
    "\n",
    "import matplotlib.pyplot as plt\n",
    "%matplotlib inline\n",
    "\n",
    "# Set some parameters to get good visuals - style to ggplot and size to 15,10\n",
    "plt.style.use('ggplot')\n",
    "import matplotlib.style as style\n",
    "style.use('fivethirtyeight')\n",
    "plt.rcParams['figure.figsize'] = (15, 8)\n",
    "\n",
    "import seaborn as sns\n",
    "from sklearn.manifold import TSNE\n",
    "from mpl_toolkits.mplot3d import Axes3D\n",
    "\n",
    "from sklearn import preprocessing\n",
    "from sklearn.decomposition import PCA\n",
    "\n",
    "from sklearn.cluster import KMeans\n",
    "from sklearn.ensemble import IsolationForest\n",
    "from sklearn.svm import OneClassSVM"
   ]
  },
  {
   "cell_type": "markdown",
   "metadata": {},
   "source": [
    "# Feature Building"
   ]
  },
  {
   "cell_type": "code",
   "execution_count": 14,
   "metadata": {},
   "outputs": [],
   "source": [
    "#trier les colonnes selon ip \n",
    "data.sort_values(['ip_address', '@timestamp'], inplace=True)"
   ]
  },
  {
   "cell_type": "code",
   "execution_count": 15,
   "metadata": {},
   "outputs": [],
   "source": [
    "##Shift by one timestamp to find the change between current and next data point\n",
    "data['shift_time'] = data.groupby(['ip_address'])['@timestamp'].shift(1)"
   ]
  },
  {
   "cell_type": "code",
   "execution_count": 16,
   "metadata": {},
   "outputs": [],
   "source": [
    "#time diffrence by minutes \n",
    "data['time_diff'] = (data['@timestamp'] - data['shift_time']).dt.seconds//60"
   ]
  },
  {
   "cell_type": "code",
   "execution_count": 17,
   "metadata": {},
   "outputs": [],
   "source": [
    "#extraire date\n",
    "data['date'] = data['@timestamp'].dt.date"
   ]
  },
  {
   "cell_type": "code",
   "execution_count": 18,
   "metadata": {},
   "outputs": [],
   "source": [
    "#extraire l'heure\n",
    "data['hour'] = data['@timestamp'].dt.hour"
   ]
  },
  {
   "cell_type": "code",
   "execution_count": 19,
   "metadata": {},
   "outputs": [],
   "source": [
    "data.fillna(0,inplace=True)"
   ]
  },
  {
   "cell_type": "markdown",
   "metadata": {},
   "source": [
    "# IP Profile Building"
   ]
  },
  {
   "cell_type": "code",
   "execution_count": 20,
   "metadata": {},
   "outputs": [],
   "source": [
    "ip_col = 'ip_address'"
   ]
  },
  {
   "cell_type": "markdown",
   "metadata": {},
   "source": [
    "# Count "
   ]
  },
  {
   "cell_type": "code",
   "execution_count": 21,
   "metadata": {},
   "outputs": [],
   "source": [
    "ip_counts = data.groupby(ip_col)['@timestamp'].count().reset_index()"
   ]
  },
  {
   "cell_type": "code",
   "execution_count": 22,
   "metadata": {},
   "outputs": [],
   "source": [
    "ip_counts = ip_counts.rename(columns={'@timestamp':'total_count'})"
   ]
  },
  {
   "cell_type": "markdown",
   "metadata": {},
   "source": [
    "# Daily counts average"
   ]
  },
  {
   "cell_type": "code",
   "execution_count": 23,
   "metadata": {},
   "outputs": [],
   "source": [
    "#create index for each ip per day / count number of elements per  day per group\n",
    "daily_counts = data.groupby([ip_col, 'date'])['@timestamp'].count().reset_index()"
   ]
  },
  {
   "cell_type": "code",
   "execution_count": 24,
   "metadata": {},
   "outputs": [],
   "source": [
    "daily_counts = daily_counts.rename(columns={'@timestamp':'daily_counts'})"
   ]
  },
  {
   "cell_type": "code",
   "execution_count": 25,
   "metadata": {},
   "outputs": [],
   "source": [
    "daily_counts_agg = daily_counts.groupby(ip_col).daily_counts.median().reset_index()"
   ]
  },
  {
   "cell_type": "code",
   "execution_count": 26,
   "metadata": {},
   "outputs": [
    {
     "data": {
      "text/html": [
       "<div>\n",
       "<style scoped>\n",
       "    .dataframe tbody tr th:only-of-type {\n",
       "        vertical-align: middle;\n",
       "    }\n",
       "\n",
       "    .dataframe tbody tr th {\n",
       "        vertical-align: top;\n",
       "    }\n",
       "\n",
       "    .dataframe thead th {\n",
       "        text-align: right;\n",
       "    }\n",
       "</style>\n",
       "<table border=\"1\" class=\"dataframe\">\n",
       "  <thead>\n",
       "    <tr style=\"text-align: right;\">\n",
       "      <th></th>\n",
       "      <th>ip_address</th>\n",
       "      <th>daily_counts</th>\n",
       "    </tr>\n",
       "  </thead>\n",
       "  <tbody>\n",
       "    <tr>\n",
       "      <th>0</th>\n",
       "      <td>102.89.1.116</td>\n",
       "      <td>4.0</td>\n",
       "    </tr>\n",
       "    <tr>\n",
       "      <th>1</th>\n",
       "      <td>102.89.1.165</td>\n",
       "      <td>4.0</td>\n",
       "    </tr>\n",
       "    <tr>\n",
       "      <th>2</th>\n",
       "      <td>104.131.115.238</td>\n",
       "      <td>4.0</td>\n",
       "    </tr>\n",
       "    <tr>\n",
       "      <th>3</th>\n",
       "      <td>159.203.66.140</td>\n",
       "      <td>4.0</td>\n",
       "    </tr>\n",
       "    <tr>\n",
       "      <th>4</th>\n",
       "      <td>159.65.41.26</td>\n",
       "      <td>4.0</td>\n",
       "    </tr>\n",
       "  </tbody>\n",
       "</table>\n",
       "</div>"
      ],
      "text/plain": [
       "        ip_address  daily_counts\n",
       "0     102.89.1.116           4.0\n",
       "1     102.89.1.165           4.0\n",
       "2  104.131.115.238           4.0\n",
       "3   159.203.66.140           4.0\n",
       "4     159.65.41.26           4.0"
      ]
     },
     "execution_count": 26,
     "metadata": {},
     "output_type": "execute_result"
    }
   ],
   "source": [
    "daily_counts_agg.head()"
   ]
  },
  {
   "cell_type": "markdown",
   "metadata": {},
   "source": [
    "# avg login time"
   ]
  },
  {
   "cell_type": "code",
   "execution_count": 27,
   "metadata": {},
   "outputs": [],
   "source": [
    "#mean time for every ip unity minutes\n",
    "avg_timedelta_data = data.groupby(ip_col).agg({'time_diff':['mean','max']}).reset_index()"
   ]
  },
  {
   "cell_type": "code",
   "execution_count": 28,
   "metadata": {},
   "outputs": [],
   "source": [
    "avg_timedelta_data.columns = avg_timedelta_data.columns.droplevel()"
   ]
  },
  {
   "cell_type": "code",
   "execution_count": 29,
   "metadata": {},
   "outputs": [],
   "source": [
    "avg_timedelta_data.columns = [ip_col, 'mean_avg_login', 'max_avg_login']"
   ]
  },
  {
   "cell_type": "code",
   "execution_count": 30,
   "metadata": {},
   "outputs": [
    {
     "data": {
      "text/html": [
       "<div>\n",
       "<style scoped>\n",
       "    .dataframe tbody tr th:only-of-type {\n",
       "        vertical-align: middle;\n",
       "    }\n",
       "\n",
       "    .dataframe tbody tr th {\n",
       "        vertical-align: top;\n",
       "    }\n",
       "\n",
       "    .dataframe thead th {\n",
       "        text-align: right;\n",
       "    }\n",
       "</style>\n",
       "<table border=\"1\" class=\"dataframe\">\n",
       "  <thead>\n",
       "    <tr style=\"text-align: right;\">\n",
       "      <th></th>\n",
       "      <th>ip_address</th>\n",
       "      <th>mean_avg_login</th>\n",
       "      <th>max_avg_login</th>\n",
       "    </tr>\n",
       "  </thead>\n",
       "  <tbody>\n",
       "    <tr>\n",
       "      <th>0</th>\n",
       "      <td>102.89.1.116</td>\n",
       "      <td>17.250000</td>\n",
       "      <td>44.0</td>\n",
       "    </tr>\n",
       "    <tr>\n",
       "      <th>1</th>\n",
       "      <td>102.89.1.165</td>\n",
       "      <td>15.000000</td>\n",
       "      <td>47.0</td>\n",
       "    </tr>\n",
       "    <tr>\n",
       "      <th>2</th>\n",
       "      <td>104.131.115.238</td>\n",
       "      <td>29.500000</td>\n",
       "      <td>60.0</td>\n",
       "    </tr>\n",
       "    <tr>\n",
       "      <th>3</th>\n",
       "      <td>159.203.66.140</td>\n",
       "      <td>38.250000</td>\n",
       "      <td>84.0</td>\n",
       "    </tr>\n",
       "    <tr>\n",
       "      <th>4</th>\n",
       "      <td>159.65.41.26</td>\n",
       "      <td>50.250000</td>\n",
       "      <td>141.0</td>\n",
       "    </tr>\n",
       "    <tr>\n",
       "      <th>5</th>\n",
       "      <td>164.90.131.2</td>\n",
       "      <td>83.750000</td>\n",
       "      <td>146.0</td>\n",
       "    </tr>\n",
       "    <tr>\n",
       "      <th>6</th>\n",
       "      <td>164.90.135.74</td>\n",
       "      <td>42.500000</td>\n",
       "      <td>59.0</td>\n",
       "    </tr>\n",
       "    <tr>\n",
       "      <th>7</th>\n",
       "      <td>167.71.185.118</td>\n",
       "      <td>0.000000</td>\n",
       "      <td>0.0</td>\n",
       "    </tr>\n",
       "    <tr>\n",
       "      <th>8</th>\n",
       "      <td>192.99.18.122</td>\n",
       "      <td>0.000000</td>\n",
       "      <td>0.0</td>\n",
       "    </tr>\n",
       "    <tr>\n",
       "      <th>9</th>\n",
       "      <td>197.210.76.185</td>\n",
       "      <td>19.250000</td>\n",
       "      <td>68.0</td>\n",
       "    </tr>\n",
       "    <tr>\n",
       "      <th>10</th>\n",
       "      <td>197.210.8.157</td>\n",
       "      <td>0.000000</td>\n",
       "      <td>0.0</td>\n",
       "    </tr>\n",
       "    <tr>\n",
       "      <th>11</th>\n",
       "      <td>20.102.71.10</td>\n",
       "      <td>1.875000</td>\n",
       "      <td>15.0</td>\n",
       "    </tr>\n",
       "    <tr>\n",
       "      <th>12</th>\n",
       "      <td>20.64.121.27</td>\n",
       "      <td>0.000000</td>\n",
       "      <td>0.0</td>\n",
       "    </tr>\n",
       "    <tr>\n",
       "      <th>13</th>\n",
       "      <td>208.100.26.233</td>\n",
       "      <td>0.000000</td>\n",
       "      <td>0.0</td>\n",
       "    </tr>\n",
       "    <tr>\n",
       "      <th>14</th>\n",
       "      <td>208.100.26.235</td>\n",
       "      <td>314.111111</td>\n",
       "      <td>1297.0</td>\n",
       "    </tr>\n",
       "    <tr>\n",
       "      <th>15</th>\n",
       "      <td>208.100.26.236</td>\n",
       "      <td>0.000000</td>\n",
       "      <td>0.0</td>\n",
       "    </tr>\n",
       "    <tr>\n",
       "      <th>16</th>\n",
       "      <td>208.100.26.237</td>\n",
       "      <td>136.500000</td>\n",
       "      <td>1092.0</td>\n",
       "    </tr>\n",
       "    <tr>\n",
       "      <th>17</th>\n",
       "      <td>208.100.26.243</td>\n",
       "      <td>387.027778</td>\n",
       "      <td>1387.0</td>\n",
       "    </tr>\n",
       "    <tr>\n",
       "      <th>18</th>\n",
       "      <td>208.100.26.244</td>\n",
       "      <td>5.000000</td>\n",
       "      <td>30.0</td>\n",
       "    </tr>\n",
       "    <tr>\n",
       "      <th>19</th>\n",
       "      <td>208.100.26.246</td>\n",
       "      <td>186.454545</td>\n",
       "      <td>1310.0</td>\n",
       "    </tr>\n",
       "    <tr>\n",
       "      <th>20</th>\n",
       "      <td>208.100.26.247</td>\n",
       "      <td>113.600000</td>\n",
       "      <td>875.0</td>\n",
       "    </tr>\n",
       "    <tr>\n",
       "      <th>21</th>\n",
       "      <td>208.100.26.248</td>\n",
       "      <td>0.000000</td>\n",
       "      <td>0.0</td>\n",
       "    </tr>\n",
       "    <tr>\n",
       "      <th>22</th>\n",
       "      <td>208.100.26.249</td>\n",
       "      <td>233.840000</td>\n",
       "      <td>1227.0</td>\n",
       "    </tr>\n",
       "    <tr>\n",
       "      <th>23</th>\n",
       "      <td>23.146.242.252</td>\n",
       "      <td>0.000000</td>\n",
       "      <td>0.0</td>\n",
       "    </tr>\n",
       "    <tr>\n",
       "      <th>24</th>\n",
       "      <td>34.77.162.19</td>\n",
       "      <td>0.000000</td>\n",
       "      <td>0.0</td>\n",
       "    </tr>\n",
       "    <tr>\n",
       "      <th>25</th>\n",
       "      <td>34.77.162.20</td>\n",
       "      <td>0.000000</td>\n",
       "      <td>0.0</td>\n",
       "    </tr>\n",
       "    <tr>\n",
       "      <th>26</th>\n",
       "      <td>34.77.162.21</td>\n",
       "      <td>0.000000</td>\n",
       "      <td>0.0</td>\n",
       "    </tr>\n",
       "    <tr>\n",
       "      <th>27</th>\n",
       "      <td>34.77.162.24</td>\n",
       "      <td>0.000000</td>\n",
       "      <td>0.0</td>\n",
       "    </tr>\n",
       "    <tr>\n",
       "      <th>28</th>\n",
       "      <td>34.77.162.25</td>\n",
       "      <td>0.000000</td>\n",
       "      <td>0.0</td>\n",
       "    </tr>\n",
       "    <tr>\n",
       "      <th>29</th>\n",
       "      <td>34.86.35.20</td>\n",
       "      <td>0.000000</td>\n",
       "      <td>0.0</td>\n",
       "    </tr>\n",
       "    <tr>\n",
       "      <th>30</th>\n",
       "      <td>34.86.35.23</td>\n",
       "      <td>0.000000</td>\n",
       "      <td>0.0</td>\n",
       "    </tr>\n",
       "    <tr>\n",
       "      <th>31</th>\n",
       "      <td>34.86.35.24</td>\n",
       "      <td>2.250000</td>\n",
       "      <td>18.0</td>\n",
       "    </tr>\n",
       "    <tr>\n",
       "      <th>32</th>\n",
       "      <td>34.96.130.0</td>\n",
       "      <td>0.000000</td>\n",
       "      <td>0.0</td>\n",
       "    </tr>\n",
       "    <tr>\n",
       "      <th>33</th>\n",
       "      <td>34.96.130.10</td>\n",
       "      <td>0.000000</td>\n",
       "      <td>0.0</td>\n",
       "    </tr>\n",
       "    <tr>\n",
       "      <th>34</th>\n",
       "      <td>34.96.130.12</td>\n",
       "      <td>0.000000</td>\n",
       "      <td>0.0</td>\n",
       "    </tr>\n",
       "    <tr>\n",
       "      <th>35</th>\n",
       "      <td>34.96.130.13</td>\n",
       "      <td>156.666667</td>\n",
       "      <td>940.0</td>\n",
       "    </tr>\n",
       "    <tr>\n",
       "      <th>36</th>\n",
       "      <td>34.96.130.18</td>\n",
       "      <td>0.000000</td>\n",
       "      <td>0.0</td>\n",
       "    </tr>\n",
       "    <tr>\n",
       "      <th>37</th>\n",
       "      <td>34.96.130.19</td>\n",
       "      <td>0.000000</td>\n",
       "      <td>0.0</td>\n",
       "    </tr>\n",
       "    <tr>\n",
       "      <th>38</th>\n",
       "      <td>34.96.130.9</td>\n",
       "      <td>0.000000</td>\n",
       "      <td>0.0</td>\n",
       "    </tr>\n",
       "    <tr>\n",
       "      <th>39</th>\n",
       "      <td>51.15.195.246</td>\n",
       "      <td>0.000000</td>\n",
       "      <td>0.0</td>\n",
       "    </tr>\n",
       "    <tr>\n",
       "      <th>40</th>\n",
       "      <td>51.158.108.77</td>\n",
       "      <td>0.000000</td>\n",
       "      <td>0.0</td>\n",
       "    </tr>\n",
       "    <tr>\n",
       "      <th>41</th>\n",
       "      <td>51.158.109.3</td>\n",
       "      <td>125.000000</td>\n",
       "      <td>875.0</td>\n",
       "    </tr>\n",
       "    <tr>\n",
       "      <th>42</th>\n",
       "      <td>80.148.18.172</td>\n",
       "      <td>0.000000</td>\n",
       "      <td>0.0</td>\n",
       "    </tr>\n",
       "    <tr>\n",
       "      <th>43</th>\n",
       "      <td>84.38.134.31</td>\n",
       "      <td>48.687500</td>\n",
       "      <td>726.0</td>\n",
       "    </tr>\n",
       "    <tr>\n",
       "      <th>44</th>\n",
       "      <td>89.40.181.202</td>\n",
       "      <td>0.000000</td>\n",
       "      <td>0.0</td>\n",
       "    </tr>\n",
       "    <tr>\n",
       "      <th>45</th>\n",
       "      <td>92.118.160.1</td>\n",
       "      <td>0.000000</td>\n",
       "      <td>0.0</td>\n",
       "    </tr>\n",
       "    <tr>\n",
       "      <th>46</th>\n",
       "      <td>92.118.160.13</td>\n",
       "      <td>0.000000</td>\n",
       "      <td>0.0</td>\n",
       "    </tr>\n",
       "    <tr>\n",
       "      <th>47</th>\n",
       "      <td>92.118.160.37</td>\n",
       "      <td>0.000000</td>\n",
       "      <td>0.0</td>\n",
       "    </tr>\n",
       "    <tr>\n",
       "      <th>48</th>\n",
       "      <td>92.118.160.41</td>\n",
       "      <td>100.583333</td>\n",
       "      <td>900.0</td>\n",
       "    </tr>\n",
       "    <tr>\n",
       "      <th>49</th>\n",
       "      <td>92.118.160.45</td>\n",
       "      <td>168.875000</td>\n",
       "      <td>1351.0</td>\n",
       "    </tr>\n",
       "    <tr>\n",
       "      <th>50</th>\n",
       "      <td>92.118.160.5</td>\n",
       "      <td>38.571429</td>\n",
       "      <td>270.0</td>\n",
       "    </tr>\n",
       "    <tr>\n",
       "      <th>51</th>\n",
       "      <td>92.118.160.61</td>\n",
       "      <td>127.833333</td>\n",
       "      <td>745.0</td>\n",
       "    </tr>\n",
       "    <tr>\n",
       "      <th>52</th>\n",
       "      <td>92.118.160.9</td>\n",
       "      <td>0.000000</td>\n",
       "      <td>0.0</td>\n",
       "    </tr>\n",
       "    <tr>\n",
       "      <th>53</th>\n",
       "      <td>94.232.46.171</td>\n",
       "      <td>169.916667</td>\n",
       "      <td>1290.0</td>\n",
       "    </tr>\n",
       "    <tr>\n",
       "      <th>54</th>\n",
       "      <td>l08.100.26.247</td>\n",
       "      <td>0.000000</td>\n",
       "      <td>0.0</td>\n",
       "    </tr>\n",
       "  </tbody>\n",
       "</table>\n",
       "</div>"
      ],
      "text/plain": [
       "         ip_address  mean_avg_login  max_avg_login\n",
       "0      102.89.1.116       17.250000           44.0\n",
       "1      102.89.1.165       15.000000           47.0\n",
       "2   104.131.115.238       29.500000           60.0\n",
       "3    159.203.66.140       38.250000           84.0\n",
       "4      159.65.41.26       50.250000          141.0\n",
       "5      164.90.131.2       83.750000          146.0\n",
       "6     164.90.135.74       42.500000           59.0\n",
       "7    167.71.185.118        0.000000            0.0\n",
       "8     192.99.18.122        0.000000            0.0\n",
       "9    197.210.76.185       19.250000           68.0\n",
       "10    197.210.8.157        0.000000            0.0\n",
       "11     20.102.71.10        1.875000           15.0\n",
       "12     20.64.121.27        0.000000            0.0\n",
       "13   208.100.26.233        0.000000            0.0\n",
       "14   208.100.26.235      314.111111         1297.0\n",
       "15   208.100.26.236        0.000000            0.0\n",
       "16   208.100.26.237      136.500000         1092.0\n",
       "17   208.100.26.243      387.027778         1387.0\n",
       "18   208.100.26.244        5.000000           30.0\n",
       "19   208.100.26.246      186.454545         1310.0\n",
       "20   208.100.26.247      113.600000          875.0\n",
       "21   208.100.26.248        0.000000            0.0\n",
       "22   208.100.26.249      233.840000         1227.0\n",
       "23   23.146.242.252        0.000000            0.0\n",
       "24     34.77.162.19        0.000000            0.0\n",
       "25     34.77.162.20        0.000000            0.0\n",
       "26     34.77.162.21        0.000000            0.0\n",
       "27     34.77.162.24        0.000000            0.0\n",
       "28     34.77.162.25        0.000000            0.0\n",
       "29      34.86.35.20        0.000000            0.0\n",
       "30      34.86.35.23        0.000000            0.0\n",
       "31      34.86.35.24        2.250000           18.0\n",
       "32      34.96.130.0        0.000000            0.0\n",
       "33     34.96.130.10        0.000000            0.0\n",
       "34     34.96.130.12        0.000000            0.0\n",
       "35     34.96.130.13      156.666667          940.0\n",
       "36     34.96.130.18        0.000000            0.0\n",
       "37     34.96.130.19        0.000000            0.0\n",
       "38      34.96.130.9        0.000000            0.0\n",
       "39    51.15.195.246        0.000000            0.0\n",
       "40    51.158.108.77        0.000000            0.0\n",
       "41     51.158.109.3      125.000000          875.0\n",
       "42    80.148.18.172        0.000000            0.0\n",
       "43     84.38.134.31       48.687500          726.0\n",
       "44    89.40.181.202        0.000000            0.0\n",
       "45     92.118.160.1        0.000000            0.0\n",
       "46    92.118.160.13        0.000000            0.0\n",
       "47    92.118.160.37        0.000000            0.0\n",
       "48    92.118.160.41      100.583333          900.0\n",
       "49    92.118.160.45      168.875000         1351.0\n",
       "50     92.118.160.5       38.571429          270.0\n",
       "51    92.118.160.61      127.833333          745.0\n",
       "52     92.118.160.9        0.000000            0.0\n",
       "53    94.232.46.171      169.916667         1290.0\n",
       "54   l08.100.26.247        0.000000            0.0"
      ]
     },
     "execution_count": 30,
     "metadata": {},
     "output_type": "execute_result"
    }
   ],
   "source": [
    "avg_timedelta_data.fillna(0)"
   ]
  },
  {
   "cell_type": "markdown",
   "metadata": {},
   "source": [
    "# Full Feature Set"
   ]
  },
  {
   "cell_type": "code",
   "execution_count": 31,
   "metadata": {},
   "outputs": [],
   "source": [
    "merge_1 = ip_counts.merge(daily_counts_agg, on=ip_col, how='left')"
   ]
  },
  {
   "cell_type": "code",
   "execution_count": 32,
   "metadata": {},
   "outputs": [],
   "source": [
    "final_data = merge_1.merge(avg_timedelta_data, on=ip_col, how='left')"
   ]
  },
  {
   "cell_type": "code",
   "execution_count": 33,
   "metadata": {},
   "outputs": [
    {
     "data": {
      "text/html": [
       "<div>\n",
       "<style scoped>\n",
       "    .dataframe tbody tr th:only-of-type {\n",
       "        vertical-align: middle;\n",
       "    }\n",
       "\n",
       "    .dataframe tbody tr th {\n",
       "        vertical-align: top;\n",
       "    }\n",
       "\n",
       "    .dataframe thead th {\n",
       "        text-align: right;\n",
       "    }\n",
       "</style>\n",
       "<table border=\"1\" class=\"dataframe\">\n",
       "  <thead>\n",
       "    <tr style=\"text-align: right;\">\n",
       "      <th></th>\n",
       "      <th>ip_address</th>\n",
       "      <th>total_count</th>\n",
       "      <th>daily_counts</th>\n",
       "      <th>mean_avg_login</th>\n",
       "      <th>max_avg_login</th>\n",
       "    </tr>\n",
       "  </thead>\n",
       "  <tbody>\n",
       "    <tr>\n",
       "      <th>0</th>\n",
       "      <td>102.89.1.116</td>\n",
       "      <td>4</td>\n",
       "      <td>4.0</td>\n",
       "      <td>17.25</td>\n",
       "      <td>44.0</td>\n",
       "    </tr>\n",
       "    <tr>\n",
       "      <th>1</th>\n",
       "      <td>102.89.1.165</td>\n",
       "      <td>4</td>\n",
       "      <td>4.0</td>\n",
       "      <td>15.00</td>\n",
       "      <td>47.0</td>\n",
       "    </tr>\n",
       "    <tr>\n",
       "      <th>2</th>\n",
       "      <td>104.131.115.238</td>\n",
       "      <td>4</td>\n",
       "      <td>4.0</td>\n",
       "      <td>29.50</td>\n",
       "      <td>60.0</td>\n",
       "    </tr>\n",
       "    <tr>\n",
       "      <th>3</th>\n",
       "      <td>159.203.66.140</td>\n",
       "      <td>4</td>\n",
       "      <td>4.0</td>\n",
       "      <td>38.25</td>\n",
       "      <td>84.0</td>\n",
       "    </tr>\n",
       "    <tr>\n",
       "      <th>4</th>\n",
       "      <td>159.65.41.26</td>\n",
       "      <td>4</td>\n",
       "      <td>4.0</td>\n",
       "      <td>50.25</td>\n",
       "      <td>141.0</td>\n",
       "    </tr>\n",
       "  </tbody>\n",
       "</table>\n",
       "</div>"
      ],
      "text/plain": [
       "        ip_address  total_count  daily_counts  mean_avg_login  max_avg_login\n",
       "0     102.89.1.116            4           4.0           17.25           44.0\n",
       "1     102.89.1.165            4           4.0           15.00           47.0\n",
       "2  104.131.115.238            4           4.0           29.50           60.0\n",
       "3   159.203.66.140            4           4.0           38.25           84.0\n",
       "4     159.65.41.26            4           4.0           50.25          141.0"
      ]
     },
     "execution_count": 33,
     "metadata": {},
     "output_type": "execute_result"
    }
   ],
   "source": [
    "final_data.head()"
   ]
  },
  {
   "cell_type": "code",
   "execution_count": 34,
   "metadata": {},
   "outputs": [],
   "source": [
    "ip_map = final_data[ip_col].to_dict()"
   ]
  },
  {
   "cell_type": "code",
   "execution_count": 35,
   "metadata": {},
   "outputs": [],
   "source": [
    "#if you don't specify the random_state in the code, then every time you run(execute) your code a new random value is generated \n",
    "#and the train and test datasets would have different values each time.\n",
    "RANDOM_STATE = 123"
   ]
  },
  {
   "cell_type": "markdown",
   "metadata": {},
   "source": [
    "# Data normalization"
   ]
  },
  {
   "cell_type": "code",
   "execution_count": 36,
   "metadata": {},
   "outputs": [],
   "source": [
    "feature_cols = ['total_count', 'daily_counts','mean_avg_login', 'max_avg_login']"
   ]
  },
  {
   "cell_type": "code",
   "execution_count": 37,
   "metadata": {},
   "outputs": [],
   "source": [
    "data_new = final_data[feature_cols]\n",
    "data_new.fillna(0,inplace=True)"
   ]
  },
  {
   "cell_type": "code",
   "execution_count": 38,
   "metadata": {},
   "outputs": [],
   "source": [
    "#normalization using min max values from 0 to 1\n",
    "from sklearn import preprocessing\n",
    "min_max_scaler = preprocessing.MinMaxScaler()"
   ]
  },
  {
   "cell_type": "code",
   "execution_count": 39,
   "metadata": {},
   "outputs": [],
   "source": [
    "#data_new contains normalized data \n",
    "np_scaled = min_max_scaler.fit_transform(data_new)\n",
    "data_new = pd.DataFrame(np_scaled, columns=feature_cols)"
   ]
  },
  {
   "cell_type": "code",
   "execution_count": 40,
   "metadata": {},
   "outputs": [
    {
     "data": {
      "text/plain": [
       "<seaborn.axisgrid.PairGrid at 0x1e247e799d0>"
      ]
     },
     "execution_count": 40,
     "metadata": {},
     "output_type": "execute_result"
    },
    {
     "data": {
      "image/png": "[encoded data removed]",
      "text/plain": [
       "<Figure size 720x720 with 20 Axes>"
      ]
     },
     "metadata": {},
     "output_type": "display_data"
    }
   ],
   "source": [
    "sns.pairplot(final_data[feature_cols])"
   ]
  },
  {
   "cell_type": "markdown",
   "metadata": {},
   "source": [
    "# Identifying optimum number of clusters"
   ]
  },
  {
   "cell_type": "code",
   "execution_count": 41,
   "metadata": {},
   "outputs": [
    {
     "name": "stderr",
     "output_type": "stream",
     "text": [
      "C:\\Users\\ASUS\\anaconda3\\lib\\site-packages\\sklearn\\cluster\\_kmeans.py:881: UserWarning:\n",
      "\n",
      "KMeans is known to have a memory leak on Windows with MKL, when there are less chunks than available threads. You can avoid it by setting the environment variable OMP_NUM_THREADS=1.\n",
      "\n"
     ]
    },
    {
     "data": {
      "image/png": "[encoded data removed]",
      "text/plain": [
       "<Figure size 1080x576 with 1 Axes>"
      ]
     },
     "metadata": {},
     "output_type": "display_data"
    }
   ],
   "source": [
    "#Elbow method to choose the best k value of clusters\n",
    "n_cluster = range(1,10)\n",
    "cluster_wss = []\n",
    "\n",
    "from sklearn.cluster import KMeans\n",
    "\n",
    "for i in n_cluster:\n",
    "    kmeans = KMeans(n_clusters=i, random_state=RANDOM_STATE).fit(data_new) \n",
    "    cluster_wss.append(kmeans.inertia_)\n",
    "    \n",
    "plt.xlabel('# kmeans')\n",
    "plt.ylabel('WSS')\n",
    "plt.plot(n_cluster, cluster_wss, marker = 'o')\n",
    "plt.show()"
   ]
  },
  {
   "cell_type": "markdown",
   "metadata": {},
   "source": [
    "# K means : Model building"
   ]
  },
  {
   "cell_type": "code",
   "execution_count": 42,
   "metadata": {},
   "outputs": [
    {
     "name": "stderr",
     "output_type": "stream",
     "text": [
      "C:\\Users\\ASUS\\anaconda3\\lib\\site-packages\\sklearn\\cluster\\_kmeans.py:881: UserWarning:\n",
      "\n",
      "KMeans is known to have a memory leak on Windows with MKL, when there are less chunks than available threads. You can avoid it by setting the environment variable OMP_NUM_THREADS=1.\n",
      "\n"
     ]
    }
   ],
   "source": [
    "#number of clusters\n",
    "n_cluster = range(1, 10)\n",
    "#fit the data\n",
    "kmeans = [KMeans(n_clusters=i, random_state=RANDOM_STATE).fit(data_new) for i in n_cluster]\n",
    "cluster_model = kmeans[4]"
   ]
  },
  {
   "cell_type": "code",
   "execution_count": 43,
   "metadata": {},
   "outputs": [],
   "source": [
    "#predict number of values for each cluster \n",
    "final_data['cluster'] = cluster_model.predict(data_new)"
   ]
  },
  {
   "cell_type": "code",
   "execution_count": 44,
   "metadata": {},
   "outputs": [],
   "source": [
    "#Tsne for data reduction instead of pca \n",
    "#The point of t-SNE is to reduce the dimension to something that can be visualized in two dimension\n",
    "tsne = TSNE(n_components=2, verbose=1, perplexity=40, n_iter=300, random_state=RANDOM_STATE)"
   ]
  },
  {
   "cell_type": "code",
   "execution_count": 45,
   "metadata": {},
   "outputs": [
    {
     "name": "stdout",
     "output_type": "stream",
     "text": [
      "[t-SNE] Computing 54 nearest neighbors...\n",
      "[t-SNE] Indexed 55 samples in 0.000s...\n",
      "[t-SNE] Computed neighbors for 55 samples in 0.000s...\n",
      "[t-SNE] Computed conditional probabilities for sample 55 / 55\n",
      "[t-SNE] Mean sigma: 0.293708\n",
      "[t-SNE] KL divergence after 250 iterations with early exaggeration: 43.495316\n",
      "[t-SNE] KL divergence after 300 iterations: 0.774696\n"
     ]
    }
   ],
   "source": [
    "tsne_results = tsne.fit_transform(data_new)"
   ]
  },
  {
   "cell_type": "code",
   "execution_count": 46,
   "metadata": {},
   "outputs": [],
   "source": [
    "#all rows first column\n",
    "final_data['tsne-2d-one'] = tsne_results[:,0]\n",
    "#all rows second column\n",
    "final_data['tsne-2d-two'] = tsne_results[:,1]"
   ]
  },
  {
   "cell_type": "code",
   "execution_count": 47,
   "metadata": {},
   "outputs": [],
   "source": [
    "tsne_cluster = final_data.groupby('cluster').agg({'tsne-2d-one':'mean', 'tsne-2d-two':'mean'}).reset_index()"
   ]
  },
  {
   "cell_type": "code",
   "execution_count": 48,
   "metadata": {},
   "outputs": [],
   "source": [
    "#Centroids are data points representing the center of a cluster/each line is centroid of a cluster \n",
    "centers = cluster_model.cluster_centers_"
   ]
  },
  {
   "cell_type": "code",
   "execution_count": 49,
   "metadata": {},
   "outputs": [],
   "source": [
    "points = np.asarray(data_new)"
   ]
  },
  {
   "cell_type": "code",
   "execution_count": 50,
   "metadata": {},
   "outputs": [
    {
     "name": "stderr",
     "output_type": "stream",
     "text": [
      "<ipython-input-50-b8bd83b6d12b>:1: DeprecationWarning:\n",
      "\n",
      "The default dtype for empty Series will be 'object' instead of 'float64' in a future version. Specify a dtype explicitly to silence this warning.\n",
      "\n"
     ]
    }
   ],
   "source": [
    "total_distance = pd.Series()"
   ]
  },
  {
   "cell_type": "code",
   "execution_count": 51,
   "metadata": {},
   "outputs": [],
   "source": [
    "#The distance from each point to each centroid is calculated.\n",
    "\n",
    "def get_sum_square_distance(data, cluster_model):\n",
    "    centers = cluster_model.cluster_centers_\n",
    "    points = np.asarray(data[feature_cols])\n",
    "    total_distance = pd.Series()\n",
    "    for i in range(len(points)):\n",
    "        distance = 0\n",
    "        for j in range(len(centers)):\n",
    "            a = np.linalg.norm(points[i] - centers[j])\n",
    "            distance += a**2\n",
    "        total_distance.at[i]=distance\n",
    "    \n",
    "    return total_distance    "
   ]
  },
  {
   "cell_type": "code",
   "execution_count": 52,
   "metadata": {},
   "outputs": [
    {
     "name": "stderr",
     "output_type": "stream",
     "text": [
      "<ipython-input-51-2c7ca1ea5754>:6: DeprecationWarning:\n",
      "\n",
      "The default dtype for empty Series will be 'object' instead of 'float64' in a future version. Specify a dtype explicitly to silence this warning.\n",
      "\n"
     ]
    }
   ],
   "source": [
    "final_data['sum_square_distance'] = get_sum_square_distance(data_new, cluster_model)"
   ]
  },
  {
   "cell_type": "code",
   "execution_count": 53,
   "metadata": {},
   "outputs": [
    {
     "data": {
      "image/png": "[encoded data removed]",
      "text/plain": [
       "<Figure size 1080x576 with 1 Axes>"
      ]
     },
     "metadata": {},
     "output_type": "display_data"
    }
   ],
   "source": [
    "#boxplot help detect outliers\n",
    "import matplotlib.pyplot as plt\n",
    "import numpy as np\n",
    "\n",
    "df=final_data['sum_square_distance']\n",
    " \n",
    "\n",
    "# plot. Set color of marker edge\n",
    "flierprops = dict(marker='o', markerfacecolor='r', markersize=12,\n",
    "                  linestyle='none', markeredgecolor='g')\n",
    "plt.boxplot(df, flierprops=flierprops)\n",
    "\n",
    "plt.show()"
   ]
  },
  {
   "cell_type": "code",
   "execution_count": 54,
   "metadata": {},
   "outputs": [],
   "source": [
    "Median=final_data['sum_square_distance'].median()"
   ]
  },
  {
   "cell_type": "code",
   "execution_count": 55,
   "metadata": {},
   "outputs": [],
   "source": [
    "#if sum square distance is superior to median then we identify it as an anomaly \n",
    "cutoff=6\n",
    "final_data['anomaly_kmeans'] = (final_data['sum_square_distance'] > cutoff).astype(int)\n",
    "final_data['anomaly_kmeans'] = final_data['anomaly_kmeans'].map( {0: \"normal\", 1: \"anomaly\"} )"
   ]
  },
  {
   "cell_type": "code",
   "execution_count": 56,
   "metadata": {},
   "outputs": [
    {
     "data": {
      "text/plain": [
       "<AxesSubplot:xlabel='tsne-2d-one', ylabel='tsne-2d-two'>"
      ]
     },
     "execution_count": 56,
     "metadata": {},
     "output_type": "execute_result"
    },
    {
     "data": {
      "image/png": "[encoded data removed]",
      "text/plain": [
       "<Figure size 1080x576 with 1 Axes>"
      ]
     },
     "metadata": {},
     "output_type": "display_data"
    }
   ],
   "source": [
    "sns.scatterplot(\n",
    "    x=\"tsne-2d-one\", y=\"tsne-2d-two\",\n",
    "    hue=\"anomaly_kmeans\",\n",
    "    #palette=sns.color_palette(\"hls\", 7),\n",
    "    data=final_data,\n",
    "    legend=\"full\",\n",
    "    alpha=1\n",
    ")"
   ]
  },
  {
   "cell_type": "code",
   "execution_count": 57,
   "metadata": {},
   "outputs": [
    {
     "data": {
      "text/html": [
       "<div>\n",
       "<style scoped>\n",
       "    .dataframe tbody tr th:only-of-type {\n",
       "        vertical-align: middle;\n",
       "    }\n",
       "\n",
       "    .dataframe tbody tr th {\n",
       "        vertical-align: top;\n",
       "    }\n",
       "\n",
       "    .dataframe thead th {\n",
       "        text-align: right;\n",
       "    }\n",
       "</style>\n",
       "<table border=\"1\" class=\"dataframe\">\n",
       "  <thead>\n",
       "    <tr style=\"text-align: right;\">\n",
       "      <th></th>\n",
       "      <th>ip_address</th>\n",
       "      <th>total_count</th>\n",
       "      <th>daily_counts</th>\n",
       "      <th>mean_avg_login</th>\n",
       "      <th>max_avg_login</th>\n",
       "      <th>cluster</th>\n",
       "      <th>tsne-2d-one</th>\n",
       "      <th>tsne-2d-two</th>\n",
       "      <th>sum_square_distance</th>\n",
       "      <th>anomaly_kmeans</th>\n",
       "    </tr>\n",
       "  </thead>\n",
       "  <tbody>\n",
       "    <tr>\n",
       "      <th>17</th>\n",
       "      <td>208.100.26.243</td>\n",
       "      <td>36</td>\n",
       "      <td>1.0</td>\n",
       "      <td>387.027778</td>\n",
       "      <td>1387.0</td>\n",
       "      <td>1</td>\n",
       "      <td>38.021423</td>\n",
       "      <td>-18.541451</td>\n",
       "      <td>7.09415</td>\n",
       "      <td>anomaly</td>\n",
       "    </tr>\n",
       "  </tbody>\n",
       "</table>\n",
       "</div>"
      ],
      "text/plain": [
       "        ip_address  total_count  daily_counts  mean_avg_login  max_avg_login  \\\n",
       "17  208.100.26.243           36           1.0      387.027778         1387.0   \n",
       "\n",
       "    cluster  tsne-2d-one  tsne-2d-two  sum_square_distance anomaly_kmeans  \n",
       "17        1    38.021423   -18.541451              7.09415        anomaly  "
      ]
     },
     "execution_count": 57,
     "metadata": {},
     "output_type": "execute_result"
    }
   ],
   "source": [
    "final_data.loc[final_data['anomaly_kmeans']==\"anomaly\"]"
   ]
  },
  {
   "cell_type": "markdown",
   "metadata": {},
   "source": [
    "# Isolation Forests"
   ]
  },
  {
   "cell_type": "code",
   "execution_count": 58,
   "metadata": {},
   "outputs": [],
   "source": [
    "# Contamination factors indicates the percentage of data we believe to be outliers\n",
    "#contamination=0.12 would identify the \"top 12\" percent of outliers.\n",
    "outlier_fraction = 0.12"
   ]
  },
  {
   "cell_type": "code",
   "execution_count": 59,
   "metadata": {},
   "outputs": [],
   "source": [
    "model =  IsolationForest(n_jobs=-1, n_estimators=200, max_features=3, random_state=RANDOM_STATE, contamination=outlier_fraction)"
   ]
  },
  {
   "cell_type": "code",
   "execution_count": 60,
   "metadata": {},
   "outputs": [
    {
     "data": {
      "text/plain": [
       "IsolationForest(contamination=0.12, max_features=3, n_estimators=200, n_jobs=-1,\n",
       "                random_state=123)"
      ]
     },
     "execution_count": 60,
     "metadata": {},
     "output_type": "execute_result"
    }
   ],
   "source": [
    "model.fit(data_new)"
   ]
  },
  {
   "cell_type": "code",
   "execution_count": 61,
   "metadata": {},
   "outputs": [],
   "source": [
    "# add the data to the main  \n",
    "final_data['anomaly_isolated'] = pd.Series(model.predict(data_new))"
   ]
  },
  {
   "cell_type": "code",
   "execution_count": 62,
   "metadata": {},
   "outputs": [
    {
     "data": {
      "text/plain": [
       " 1    48\n",
       "-1     7\n",
       "Name: anomaly_isolated, dtype: int64"
      ]
     },
     "execution_count": 62,
     "metadata": {},
     "output_type": "execute_result"
    }
   ],
   "source": [
    "final_data['anomaly_isolated'].value_counts()"
   ]
  },
  {
   "cell_type": "code",
   "execution_count": 63,
   "metadata": {},
   "outputs": [],
   "source": [
    "final_data['anomaly_isolated'] = final_data['anomaly_isolated'].map( {-1: \"anomaly\",1:\"normal\"} )"
   ]
  },
  {
   "cell_type": "code",
   "execution_count": 64,
   "metadata": {},
   "outputs": [
    {
     "data": {
      "text/plain": [
       "<AxesSubplot:xlabel='tsne-2d-one', ylabel='tsne-2d-two'>"
      ]
     },
     "execution_count": 64,
     "metadata": {},
     "output_type": "execute_result"
    },
    {
     "data": {
      "image/png": "[encoded data removed]",
      "text/plain": [
       "<Figure size 1080x576 with 1 Axes>"
      ]
     },
     "metadata": {},
     "output_type": "display_data"
    }
   ],
   "source": [
    "sns.scatterplot(\n",
    "    x=\"tsne-2d-one\", y=\"tsne-2d-two\",\n",
    "    hue=\"anomaly_isolated\",\n",
    "    palette=sns.color_palette(\"hls\", 2),\n",
    "    data=final_data,\n",
    "    legend=\"full\",\n",
    "    alpha=1\n",
    ")"
   ]
  },
  {
   "cell_type": "code",
   "execution_count": 65,
   "metadata": {},
   "outputs": [],
   "source": [
    "total_counts_condition = (final_data['total_count'] >= final_data['total_count'].quantile(0.98)) \n",
    "daily_counts_condition =  (final_data['daily_counts'] >= final_data['daily_counts'].quantile(0.98))"
   ]
  },
  {
   "cell_type": "code",
   "execution_count": 66,
   "metadata": {},
   "outputs": [],
   "source": [
    "final_data['anomaly_manual'] = (total_counts_condition | daily_counts_condition).astype(np.int)"
   ]
  },
  {
   "cell_type": "code",
   "execution_count": 67,
   "metadata": {},
   "outputs": [
    {
     "data": {
      "text/html": [
       "<div>\n",
       "<style scoped>\n",
       "    .dataframe tbody tr th:only-of-type {\n",
       "        vertical-align: middle;\n",
       "    }\n",
       "\n",
       "    .dataframe tbody tr th {\n",
       "        vertical-align: top;\n",
       "    }\n",
       "\n",
       "    .dataframe thead th {\n",
       "        text-align: right;\n",
       "    }\n",
       "</style>\n",
       "<table border=\"1\" class=\"dataframe\">\n",
       "  <thead>\n",
       "    <tr style=\"text-align: right;\">\n",
       "      <th></th>\n",
       "      <th>ip_address</th>\n",
       "      <th>total_count</th>\n",
       "      <th>daily_counts</th>\n",
       "      <th>mean_avg_login</th>\n",
       "      <th>max_avg_login</th>\n",
       "      <th>cluster</th>\n",
       "      <th>tsne-2d-one</th>\n",
       "      <th>tsne-2d-two</th>\n",
       "      <th>sum_square_distance</th>\n",
       "      <th>anomaly_kmeans</th>\n",
       "      <th>anomaly_isolated</th>\n",
       "      <th>anomaly_manual</th>\n",
       "    </tr>\n",
       "  </thead>\n",
       "  <tbody>\n",
       "    <tr>\n",
       "      <th>0</th>\n",
       "      <td>102.89.1.116</td>\n",
       "      <td>4</td>\n",
       "      <td>4.0</td>\n",
       "      <td>17.25</td>\n",
       "      <td>44.0</td>\n",
       "      <td>0</td>\n",
       "      <td>2.156621</td>\n",
       "      <td>19.762901</td>\n",
       "      <td>4.613753</td>\n",
       "      <td>normal</td>\n",
       "      <td>normal</td>\n",
       "      <td>0</td>\n",
       "    </tr>\n",
       "    <tr>\n",
       "      <th>1</th>\n",
       "      <td>102.89.1.165</td>\n",
       "      <td>4</td>\n",
       "      <td>4.0</td>\n",
       "      <td>15.00</td>\n",
       "      <td>47.0</td>\n",
       "      <td>0</td>\n",
       "      <td>-21.246681</td>\n",
       "      <td>7.620149</td>\n",
       "      <td>4.619858</td>\n",
       "      <td>normal</td>\n",
       "      <td>normal</td>\n",
       "      <td>0</td>\n",
       "    </tr>\n",
       "    <tr>\n",
       "      <th>2</th>\n",
       "      <td>104.131.115.238</td>\n",
       "      <td>4</td>\n",
       "      <td>4.0</td>\n",
       "      <td>29.50</td>\n",
       "      <td>60.0</td>\n",
       "      <td>0</td>\n",
       "      <td>15.649078</td>\n",
       "      <td>-31.843941</td>\n",
       "      <td>4.450998</td>\n",
       "      <td>normal</td>\n",
       "      <td>normal</td>\n",
       "      <td>0</td>\n",
       "    </tr>\n",
       "    <tr>\n",
       "      <th>3</th>\n",
       "      <td>159.203.66.140</td>\n",
       "      <td>4</td>\n",
       "      <td>4.0</td>\n",
       "      <td>38.25</td>\n",
       "      <td>84.0</td>\n",
       "      <td>0</td>\n",
       "      <td>21.900599</td>\n",
       "      <td>-17.274889</td>\n",
       "      <td>4.290927</td>\n",
       "      <td>normal</td>\n",
       "      <td>normal</td>\n",
       "      <td>0</td>\n",
       "    </tr>\n",
       "    <tr>\n",
       "      <th>4</th>\n",
       "      <td>159.65.41.26</td>\n",
       "      <td>4</td>\n",
       "      <td>4.0</td>\n",
       "      <td>50.25</td>\n",
       "      <td>141.0</td>\n",
       "      <td>0</td>\n",
       "      <td>-11.355051</td>\n",
       "      <td>3.046990</td>\n",
       "      <td>3.993733</td>\n",
       "      <td>normal</td>\n",
       "      <td>normal</td>\n",
       "      <td>0</td>\n",
       "    </tr>\n",
       "  </tbody>\n",
       "</table>\n",
       "</div>"
      ],
      "text/plain": [
       "        ip_address  total_count  daily_counts  mean_avg_login  max_avg_login  \\\n",
       "0     102.89.1.116            4           4.0           17.25           44.0   \n",
       "1     102.89.1.165            4           4.0           15.00           47.0   \n",
       "2  104.131.115.238            4           4.0           29.50           60.0   \n",
       "3   159.203.66.140            4           4.0           38.25           84.0   \n",
       "4     159.65.41.26            4           4.0           50.25          141.0   \n",
       "\n",
       "   cluster  tsne-2d-one  tsne-2d-two  sum_square_distance anomaly_kmeans  \\\n",
       "0        0     2.156621    19.762901             4.613753         normal   \n",
       "1        0   -21.246681     7.620149             4.619858         normal   \n",
       "2        0    15.649078   -31.843941             4.450998         normal   \n",
       "3        0    21.900599   -17.274889             4.290927         normal   \n",
       "4        0   -11.355051     3.046990             3.993733         normal   \n",
       "\n",
       "  anomaly_isolated  anomaly_manual  \n",
       "0           normal               0  \n",
       "1           normal               0  \n",
       "2           normal               0  \n",
       "3           normal               0  \n",
       "4           normal               0  "
      ]
     },
     "execution_count": 67,
     "metadata": {},
     "output_type": "execute_result"
    }
   ],
   "source": [
    "final_data.head()"
   ]
  },
  {
   "cell_type": "markdown",
   "metadata": {},
   "source": [
    "# DBSCAN"
   ]
  },
  {
   "cell_type": "code",
   "execution_count": 68,
   "metadata": {},
   "outputs": [
    {
     "data": {
      "text/html": [
       "<div>\n",
       "<style scoped>\n",
       "    .dataframe tbody tr th:only-of-type {\n",
       "        vertical-align: middle;\n",
       "    }\n",
       "\n",
       "    .dataframe tbody tr th {\n",
       "        vertical-align: top;\n",
       "    }\n",
       "\n",
       "    .dataframe thead th {\n",
       "        text-align: right;\n",
       "    }\n",
       "</style>\n",
       "<table border=\"1\" class=\"dataframe\">\n",
       "  <thead>\n",
       "    <tr style=\"text-align: right;\">\n",
       "      <th></th>\n",
       "      <th>score</th>\n",
       "      <th>parameters</th>\n",
       "    </tr>\n",
       "  </thead>\n",
       "  <tbody>\n",
       "    <tr>\n",
       "      <th>0</th>\n",
       "      <td>0.77597</td>\n",
       "      <td>eps:0.4 min_sample :3</td>\n",
       "    </tr>\n",
       "  </tbody>\n",
       "</table>\n",
       "</div>"
      ],
      "text/plain": [
       "     score             parameters\n",
       "0  0.77597  eps:0.4 min_sample :3"
      ]
     },
     "execution_count": 68,
     "metadata": {},
     "output_type": "execute_result"
    }
   ],
   "source": [
    "## Finding best values of eps and min_samples\n",
    "import numpy as np\n",
    "import pandas as pd\n",
    "from sklearn.metrics import silhouette_score\n",
    "from sklearn.cluster import DBSCAN\n",
    "\n",
    "# Defining the list of hyperparameters to try\n",
    "eps_list=np.arange(start=0.1, stop=0.9, step=0.01)\n",
    "min_sample_list=np.arange(start=2, stop=5, step=1)\n",
    "\n",
    "# Creating empty data frame to store the silhouette scores for each trials\n",
    "silhouette_scores_data=pd.DataFrame()\n",
    "\n",
    "for eps_trial in eps_list:\n",
    "    for min_sample_trial in min_sample_list:\n",
    "        \n",
    "        # Generating DBSAN clusters\n",
    "        db = DBSCAN(eps=eps_trial, min_samples=min_sample_trial)\n",
    "        if(len(np.unique(db.fit_predict(data_new)))>1):\n",
    "            sil_score=silhouette_score(data_new, db.fit_predict(data_new))\n",
    "        else:\n",
    "            continue\n",
    "        trial_parameters=\"eps:\" + str(eps_trial.round(1)) +\" min_sample :\" + str(min_sample_trial)\n",
    "        \n",
    "        silhouette_scores_data=silhouette_scores_data.append(pd.DataFrame(data=[[sil_score,trial_parameters]], columns=[\"score\", \"parameters\"]))\n",
    "# Finding out the best hyperparameters with highest Score\n",
    "silhouette_scores_data.sort_values(by='score', ascending=False).head(1)"
   ]
  },
  {
   "cell_type": "code",
   "execution_count": 69,
   "metadata": {},
   "outputs": [],
   "source": [
    "db = DBSCAN(eps=0.4, min_samples=3).fit(data_new)\n",
    "labels = db.labels_"
   ]
  },
  {
   "cell_type": "code",
   "execution_count": 70,
   "metadata": {},
   "outputs": [],
   "source": [
    "final_data['anomaly_debscan']=labels\n",
    "data_new['labels']=labels"
   ]
  },
  {
   "cell_type": "code",
   "execution_count": 71,
   "metadata": {},
   "outputs": [
    {
     "data": {
      "text/plain": [
       "<AxesSubplot:xlabel='tsne-2d-one', ylabel='tsne-2d-two'>"
      ]
     },
     "execution_count": 71,
     "metadata": {},
     "output_type": "execute_result"
    },
    {
     "data": {
      "image/png": "[encoded data removed]",
      "text/plain": [
       "<Figure size 1080x576 with 1 Axes>"
      ]
     },
     "metadata": {},
     "output_type": "display_data"
    }
   ],
   "source": [
    "#we have two clusters and -1 represnts outliers \n",
    "sns.scatterplot(\n",
    "    x=\"tsne-2d-one\", y=\"tsne-2d-two\",\n",
    "    hue=\"anomaly_debscan\",\n",
    "    palette=sns.color_palette(\"hls\", 3),\n",
    "    data=final_data,\n",
    "    legend=\"full\",\n",
    "    alpha=1\n",
    ")"
   ]
  },
  {
   "cell_type": "markdown",
   "metadata": {},
   "source": [
    "# Performance of Algo"
   ]
  },
  {
   "cell_type": "markdown",
   "metadata": {},
   "source": [
    "K-means performance"
   ]
  },
  {
   "cell_type": "code",
   "execution_count": 72,
   "metadata": {
    "scrolled": true
   },
   "outputs": [
    {
     "data": {
      "text/plain": [
       "0.8627134194177849"
      ]
     },
     "execution_count": 72,
     "metadata": {},
     "output_type": "execute_result"
    }
   ],
   "source": [
    "#Silhouette Coefficient\n",
    "#This score is between -1 and 1, where the higher the score the more well defined and distinct your clusters are.\n",
    "import sklearn.metrics as metrics\n",
    "my_model = KMeans(n_clusters=4, random_state=RANDOM_STATE).fit(data_new)\n",
    "labels = my_model.labels_\n",
    "metrics.silhouette_score(data_new,labels)"
   ]
  },
  {
   "cell_type": "code",
   "execution_count": 73,
   "metadata": {},
   "outputs": [
    {
     "data": {
      "text/plain": [
       "335.59904152901066"
      ]
     },
     "execution_count": 73,
     "metadata": {},
     "output_type": "execute_result"
    }
   ],
   "source": [
    "from sklearn import metrics\n",
    "from sklearn.cluster import KMeans\n",
    "\n",
    "my_model = KMeans(n_clusters=4, random_state=RANDOM_STATE).fit(data_new)\n",
    "labels = my_model.labels_\n",
    "metrics.calinski_harabasz_score(data_new, labels)"
   ]
  },
  {
   "cell_type": "code",
   "execution_count": 74,
   "metadata": {},
   "outputs": [
    {
     "data": {
      "text/plain": [
       "0.22856545788149452"
      ]
     },
     "execution_count": 74,
     "metadata": {},
     "output_type": "execute_result"
    }
   ],
   "source": [
    "#this score measures the similarity of your clusters, \n",
    "#meaning that the lower the score the better separation there is between your clusters\n",
    "from sklearn.cluster import KMeans\n",
    "from sklearn.metrics import davies_bouldin_score\n",
    "\n",
    "my_model = KMeans(n_clusters=4, random_state=RANDOM_STATE).fit(data_new)\n",
    "labels = my_model.labels_\n",
    "davies_bouldin_score(data_new, labels)"
   ]
  },
  {
   "cell_type": "markdown",
   "metadata": {},
   "source": [
    "DBSCAN performance"
   ]
  },
  {
   "cell_type": "code",
   "execution_count": 75,
   "metadata": {},
   "outputs": [
    {
     "data": {
      "text/plain": [
       "0.8625927938756492"
      ]
     },
     "execution_count": 75,
     "metadata": {},
     "output_type": "execute_result"
    }
   ],
   "source": [
    "#Silhouette Coefficient\n",
    "#This score is between -1 and 1, where the higher the score the more well defined and distinct your clusters are.\n",
    "from sklearn import metrics\n",
    "metrics.silhouette_score(data_new, data_new['labels'])"
   ]
  },
  {
   "cell_type": "markdown",
   "metadata": {},
   "source": [
    "Isolation forest performance"
   ]
  },
  {
   "cell_type": "code",
   "execution_count": 124,
   "metadata": {},
   "outputs": [
    {
     "data": {
      "text/plain": [
       "13"
      ]
     },
     "execution_count": 124,
     "metadata": {},
     "output_type": "execute_result"
    }
   ],
   "source": [
    "#we set a rule => max login is superior to 400 minutes we consider it as an anomaly\n",
    "outliers_counter = (final_data['max_avg_login'] > 400).sum()\n",
    "outliers_counter"
   ]
  },
  {
   "cell_type": "code",
   "execution_count": 125,
   "metadata": {},
   "outputs": [
    {
     "name": "stdout",
     "output_type": "stream",
     "text": [
      "7\n"
     ]
    }
   ],
   "source": [
    "#number of values consider it as an anomaly using isolation forest\n",
    "print(len(final_data.loc[final_data['anomaly_isolated']=='anomaly']))"
   ]
  },
  {
   "cell_type": "code",
   "execution_count": 126,
   "metadata": {},
   "outputs": [
    {
     "name": "stdout",
     "output_type": "stream",
     "text": [
      "Accuracy percentage: 53.84615384615385\n"
     ]
    }
   ],
   "source": [
    "#Evaluating the model the number of : detected anomalies by the algorithm / number of defined anomaly by the rule \n",
    "print(\"Accuracy percentage:\", 100*(len(final_data.loc[final_data['anomaly_isolated']=='anomaly'])/(outliers_counter)))"
   ]
  },
  {
   "cell_type": "markdown",
   "metadata": {},
   "source": [
    "# Algorithms results "
   ]
  },
  {
   "cell_type": "code",
   "execution_count": 79,
   "metadata": {},
   "outputs": [
    {
     "data": {
      "text/html": [
       "<style  type=\"text/css\" >\n",
       "    #T_96f23c21_e3fa_11ec_bbf5_3010b3a9bab9 caption {\n",
       "          color: red;\n",
       "          font-size: 15px;\n",
       "          font-style: italic;\n",
       "          font-weight: bold;\n",
       "          text-align: center;\n",
       "    }</style><table id=\"T_96f23c21_e3fa_11ec_bbf5_3010b3a9bab9\" ><caption>Anomalous ip addresses detected using K-means</caption><thead>    <tr>        <th class=\"col_heading level0 col0\" >ip_address</th>    </tr></thead><tbody>\n",
       "                <tr>\n",
       "                                <td id=\"T_96f23c21_e3fa_11ec_bbf5_3010b3a9bab9row0_col0\" class=\"data row0 col0\" >208.100.26.243</td>\n",
       "            </tr>\n",
       "    </tbody></table>"
      ],
      "text/plain": [
       "<pandas.io.formats.style.Styler at 0x1ed066d2760>"
      ]
     },
     "metadata": {},
     "output_type": "display_data"
    }
   ],
   "source": [
    "title = 'Anomalous ip addresses detected using K-means'\n",
    "header = 'header'\n",
    "\n",
    "# Add MultiIndex Header\n",
    "an = final_data.loc[final_data['anomaly_kmeans'] == \"anomaly\", ['ip_address']]\n",
    "styler = an.style.set_caption(title).set_table_styles([{\n",
    "    'selector': 'caption',\n",
    "    'props': [\n",
    "        ('color', 'red'),\n",
    "        ('font-size', '15px'),\n",
    "        ('font-style', 'italic'),\n",
    "        ('font-weight', 'bold'),\n",
    "        ('text-align', 'center')\n",
    "    ]\n",
    "}]).hide_index()\n",
    "\n",
    "display(styler)"
   ]
  },
  {
   "cell_type": "code",
   "execution_count": 80,
   "metadata": {},
   "outputs": [
    {
     "data": {
      "text/html": [
       "<style  type=\"text/css\" >\n",
       "    #T_97ca5b94_e3fa_11ec_9561_3010b3a9bab9 caption {\n",
       "          color: red;\n",
       "          font-size: 15px;\n",
       "          font-style: italic;\n",
       "          font-weight: bold;\n",
       "          text-align: center;\n",
       "    }</style><table id=\"T_97ca5b94_e3fa_11ec_9561_3010b3a9bab9\" ><caption>Anomalous ip addresses detected using isolated_forest</caption><thead>    <tr>        <th class=\"col_heading level0 col0\" >ip_address</th>    </tr></thead><tbody>\n",
       "                <tr>\n",
       "                                <td id=\"T_97ca5b94_e3fa_11ec_9561_3010b3a9bab9row0_col0\" class=\"data row0 col0\" >20.102.71.10</td>\n",
       "            </tr>\n",
       "            <tr>\n",
       "                                <td id=\"T_97ca5b94_e3fa_11ec_9561_3010b3a9bab9row1_col0\" class=\"data row1 col0\" >208.100.26.235</td>\n",
       "            </tr>\n",
       "            <tr>\n",
       "                                <td id=\"T_97ca5b94_e3fa_11ec_9561_3010b3a9bab9row2_col0\" class=\"data row2 col0\" >208.100.26.243</td>\n",
       "            </tr>\n",
       "            <tr>\n",
       "                                <td id=\"T_97ca5b94_e3fa_11ec_9561_3010b3a9bab9row3_col0\" class=\"data row3 col0\" >208.100.26.246</td>\n",
       "            </tr>\n",
       "            <tr>\n",
       "                                <td id=\"T_97ca5b94_e3fa_11ec_9561_3010b3a9bab9row4_col0\" class=\"data row4 col0\" >208.100.26.249</td>\n",
       "            </tr>\n",
       "            <tr>\n",
       "                                <td id=\"T_97ca5b94_e3fa_11ec_9561_3010b3a9bab9row5_col0\" class=\"data row5 col0\" >84.38.134.31</td>\n",
       "            </tr>\n",
       "            <tr>\n",
       "                                <td id=\"T_97ca5b94_e3fa_11ec_9561_3010b3a9bab9row6_col0\" class=\"data row6 col0\" >92.118.160.61</td>\n",
       "            </tr>\n",
       "    </tbody></table>"
      ],
      "text/plain": [
       "<pandas.io.formats.style.Styler at 0x1ed066d2ac0>"
      ]
     },
     "metadata": {},
     "output_type": "display_data"
    }
   ],
   "source": [
    "title = 'Anomalous ip addresses detected using isolated_forest'\n",
    "header = 'header'\n",
    "\n",
    "# Add MultiIndex Header\n",
    "an = final_data.loc[final_data['anomaly_isolated'] == \"anomaly\", ['ip_address']]\n",
    "styler = an.style.set_caption(title).set_table_styles([{\n",
    "    'selector': 'caption',\n",
    "    'props': [\n",
    "        ('color', 'red'),\n",
    "        ('font-size', '15px'),\n",
    "        ('font-style', 'italic'),\n",
    "        ('font-weight', 'bold'),\n",
    "        ('text-align', 'center')\n",
    "    ]\n",
    "}]).hide_index()\n",
    "\n",
    "display(styler)"
   ]
  },
  {
   "cell_type": "code",
   "execution_count": 81,
   "metadata": {},
   "outputs": [
    {
     "data": {
      "text/html": [
       "<style  type=\"text/css\" >\n",
       "    #T_989b1874_e3fa_11ec_9633_3010b3a9bab9 caption {\n",
       "          color: red;\n",
       "          font-size: 15px;\n",
       "          font-style: italic;\n",
       "          font-weight: bold;\n",
       "          text-align: center;\n",
       "    }</style><table id=\"T_989b1874_e3fa_11ec_9633_3010b3a9bab9\" ><caption>Anomalous ip addresses detected using debscan</caption><thead>    <tr>        <th class=\"col_heading level0 col0\" >ip_address</th>    </tr></thead><tbody>\n",
       "                <tr>\n",
       "                                <td id=\"T_989b1874_e3fa_11ec_9633_3010b3a9bab9row0_col0\" class=\"data row0 col0\" >208.100.26.243</td>\n",
       "            </tr>\n",
       "            <tr>\n",
       "                                <td id=\"T_989b1874_e3fa_11ec_9633_3010b3a9bab9row1_col0\" class=\"data row1 col0\" >208.100.26.249</td>\n",
       "            </tr>\n",
       "            <tr>\n",
       "                                <td id=\"T_989b1874_e3fa_11ec_9633_3010b3a9bab9row2_col0\" class=\"data row2 col0\" >84.38.134.31</td>\n",
       "            </tr>\n",
       "    </tbody></table>"
      ],
      "text/plain": [
       "<pandas.io.formats.style.Styler at 0x1ed066d2fa0>"
      ]
     },
     "metadata": {},
     "output_type": "display_data"
    }
   ],
   "source": [
    "title = 'Anomalous ip addresses detected using debscan'\n",
    "header = 'header'\n",
    "\n",
    "# Add MultiIndex Header\n",
    "an = final_data.loc[final_data['anomaly_debscan'] == -1, ['ip_address']]\n",
    "styler = an.style.set_caption(title).set_table_styles([{\n",
    "    'selector': 'caption',\n",
    "    'props': [\n",
    "        ('color', 'red'),\n",
    "        ('font-size', '15px'),\n",
    "        ('font-style', 'italic'),\n",
    "        ('font-weight', 'bold'),\n",
    "        ('text-align', 'center')\n",
    "    ]\n",
    "}]).hide_index()\n",
    "\n",
    "display(styler)\n"
   ]
  },
  {
   "cell_type": "code",
   "execution_count": null,
   "metadata": {},
   "outputs": [],
   "source": []
  }
 ],
 "metadata": {
  "kernelspec": {
   "display_name": "Python 3",
   "language": "python",
   "name": "python3"
  },
  "language_info": {
   "codemirror_mode": {
    "name": "ipython",
    "version": 3
   },
   "file_extension": ".py",
   "mimetype": "text/x-python",
   "name": "python",
   "nbconvert_exporter": "python",
   "pygments_lexer": "ipython3",
   "version": "3.8.5"
  }
 },
 "nbformat": 4,
 "nbformat_minor": 4
}
